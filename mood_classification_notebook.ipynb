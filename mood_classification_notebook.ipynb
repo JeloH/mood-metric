{
 "cells": [
  {
   "cell_type": "code",
   "execution_count": 1,
   "metadata": {},
   "outputs": [],
   "source": [
    "# =========================================================================== #\n",
    "# Date: 02/21/20\n",
    "# Author: Esther Song\n",
    "# Description:\n",
    "# Generate a mood metric, which assigns each message to one of eight emotion categories\n",
    "#   in depechemood (inspired, amused, sad ... )\n",
    "# =========================================================================== #\n",
    "\n",
    "# import datetime\n",
    "import importlib\n",
    "import logging\n",
    "import pandas as pd\n",
    "import pickle\n",
    "import spacy\n",
    "import sys\n",
    "import re\n",
    "import numpy as np\n",
    "\n",
    "# from tqdm import tqdm\n",
    "import en_core_web_lg\n",
    "\n",
    "\n",
    "# =========================================================================== #\n",
    "# SET UP LOGGING\n",
    "# =========================================================================== #\n",
    "\n",
    "logging.basicConfig(filename=\"logs/build_mood_metric.log\",\n",
    "                    filemode=\"a\",\n",
    "                    level=logging.INFO,\n",
    "                    format=\"%(asctime)s - %(message)s\",\n",
    "                    datefmt=\"%d-%b-%y %H:%M:%S\")\n",
    "\n",
    "logging.info(\"Starting mood metric building script...\")\n",
    "\n",
    "# =========================================================================== #\n",
    "# LOAD MODULES AND MODELS\n",
    "# =========================================================================== #\n",
    "\n",
    "# read_data = importlib.import_module(\".read_data\", package=\"src\")\n",
    "# clean_text = importlib.import_module(\".clean_text\", package=\"src\")\n",
    "\n",
    "from read_data import *\n",
    "from clean_text import *\n",
    "\n",
    "nlp = spacy.load(\"en_core_web_lg\")\n",
    "\n",
    "logging.info(\"Finished loading modules and models...\")\n",
    "\n",
    "# =========================================================================== #\n",
    "# HELPER FUNCTIONS\n",
    "# =========================================================================== #\n",
    "\n",
    "def full_clean_text(text):\n",
    "    \"\"\"Combined clean text functions to fully clean text\n",
    "    Args\n",
    "        text: [string] message text\n",
    "    Returns\n",
    "        cleaned_text: [string] message text cleaned\n",
    "    \"\"\"\n",
    "    cleaned_text = ''\n",
    "    if type(text)!= float:\n",
    "        clean_text0 = clean_urls(text)\n",
    "        clean_text1 = remove_at_mentions(clean_text0)\n",
    "        clean_text2 = remove_code_markup(clean_text1)\n",
    "        clean_text3 = remove_emoticons(clean_text2)\n",
    "        clean_text4 = format_text(clean_text3)\n",
    "        # Remove new line characters\n",
    "        clean_text5 = re.sub(r\"(?<=[a-z])\\r?\\n\",\" \", clean_text4)\n",
    "        # remove special characters\n",
    "        clean_text6 = re.sub('[^A-Za-z0-9]+', ' ', clean_text5)\n",
    "        # remove digits\n",
    "        clean_text7 = re.sub(r'[0-9]+', '', clean_text6)\n",
    "        cleaned_text = clean_text7\n",
    "    return cleaned_text\n",
    "\n",
    "nlp = spacy.load('en_core_web_lg')\n",
    "\n",
    "def tokenize_func(text):\n",
    "    doc = nlp(text)\n",
    "    first_words = [token.text for token in doc if token.is_stop != True and token.is_punct != True]\n",
    "    words = [w for w in first_words if len(w) > 2]\n",
    "    words = [w for w in words if w != 'http'] # remove http\n",
    "    return words\n",
    "\n",
    "# =========================================================================== #\n",
    "# LOAD THE DATA\n",
    "# =========================================================================== #\n",
    "\n",
    "filename = \"SharedConversations.json\"\n",
    "data_df = read_json_data(filename)\n",
    "# drop empty messages\n",
    "data_df = data_df.dropna(subset = ['text']).reset_index(drop = True)\n",
    "data_df = data_df[data_df['text'].apply(len) > 0].reset_index(drop=True)\n",
    "\n",
    "logging.info(\"Read data...\")"
   ]
  },
  {
   "cell_type": "code",
   "execution_count": 2,
   "metadata": {},
   "outputs": [
    {
     "data": {
      "text/plain": [
       "(35832, 19)"
      ]
     },
     "execution_count": 2,
     "metadata": {},
     "output_type": "execute_result"
    }
   ],
   "source": [
    "total = data_df.copy()\n",
    "total.shape"
   ]
  },
  {
   "cell_type": "code",
   "execution_count": 3,
   "metadata": {},
   "outputs": [
    {
     "data": {
      "text/plain": [
       "uniqueMessageChannelId            object\n",
       "companyId                         object\n",
       "teamId                            object\n",
       "userId                            object\n",
       "text                              object\n",
       "userChannelId                     object\n",
       "channelId                         object\n",
       "channelTs                         object\n",
       "timestamp                         object\n",
       "userTimestamp             datetime64[ns]\n",
       "rawScore                          object\n",
       "rawMagnitudeScore                 object\n",
       "isWeekend                         object\n",
       "isOutOfWorkingHours               object\n",
       "numPositiveEmojis                 object\n",
       "numNegativeEmojis                 object\n",
       "hasQuestionMark                   object\n",
       "channelThreadTs                   object\n",
       "numSharedFiles                    object\n",
       "dtype: object"
      ]
     },
     "execution_count": 3,
     "metadata": {},
     "output_type": "execute_result"
    }
   ],
   "source": [
    "#============================================================================ #\n",
    "# Create Timestamps\n",
    "#============================================================================ #\n",
    "total['userTimestamp'] = pd.to_datetime(total['userTimestamp'],format='%Y-%m-%d %H:%M:%S')\n",
    "total.dtypes"
   ]
  },
  {
   "cell_type": "code",
   "execution_count": 4,
   "metadata": {},
   "outputs": [
    {
     "data": {
      "text/plain": [
       "(5199, 19)"
      ]
     },
     "execution_count": 4,
     "metadata": {},
     "output_type": "execute_result"
    }
   ],
   "source": [
    "total_2018_q1 = total[(total['userTimestamp'].dt.year == 2018) & (total['userTimestamp'].dt.month < 4)]\n",
    "total_2018_q1.shape"
   ]
  },
  {
   "cell_type": "code",
   "execution_count": 5,
   "metadata": {},
   "outputs": [
    {
     "data": {
      "text/plain": [
       "array([3, 2, 1])"
      ]
     },
     "execution_count": 5,
     "metadata": {},
     "output_type": "execute_result"
    }
   ],
   "source": [
    "total_2018_q1['userTimestamp'].dt.month.unique() # 2018 - first quarter"
   ]
  },
  {
   "cell_type": "code",
   "execution_count": 6,
   "metadata": {},
   "outputs": [
    {
     "name": "stderr",
     "output_type": "stream",
     "text": [
      "/Users/esthersong/opt/anaconda3/lib/python3.7/site-packages/ipykernel_launcher.py:4: SettingWithCopyWarning: \n",
      "A value is trying to be set on a copy of a slice from a DataFrame.\n",
      "Try using .loc[row_indexer,col_indexer] = value instead\n",
      "\n",
      "See the caveats in the documentation: http://pandas.pydata.org/pandas-docs/stable/user_guide/indexing.html#returning-a-view-versus-a-copy\n",
      "  after removing the cwd from sys.path.\n"
     ]
    }
   ],
   "source": [
    "#============================================================================ #\n",
    "# Clean text\n",
    "#============================================================================ #\n",
    "total_2018_q1[\"cleanText\"] = total_2018_q1[\"text\"].apply(full_clean_text)\n",
    "# remove empty text\n",
    "total_2018_q1 = total_2018_q1[total_2018_q1['cleanText'].apply(len) > 0].reset_index(drop=True)\n",
    "\n",
    "#============================================================================ #\n",
    "# Tokenize\n",
    "#============================================================================ #\n",
    "total_2018_q1['tokens'] = total_2018_q1['cleanText'].apply(tokenize_func)\n",
    "# remove when the tokens column is empty\n",
    "total_2018_q1 = total_2018_q1[total_2018_q1['tokens'].apply(len) > 0].reset_index(drop=True) # drop empty token rows"
   ]
  },
  {
   "cell_type": "code",
   "execution_count": 7,
   "metadata": {},
   "outputs": [
    {
     "data": {
      "text/plain": [
       "(4856, 21)"
      ]
     },
     "execution_count": 7,
     "metadata": {},
     "output_type": "execute_result"
    }
   ],
   "source": [
    "total_2018_q1.shape"
   ]
  },
  {
   "cell_type": "code",
   "execution_count": 8,
   "metadata": {},
   "outputs": [
    {
     "data": {
      "text/plain": [
       "343"
      ]
     },
     "execution_count": 8,
     "metadata": {},
     "output_type": "execute_result"
    }
   ],
   "source": [
    "5199 - 4856  # 343 rows removed, which were empty"
   ]
  },
  {
   "cell_type": "code",
   "execution_count": 9,
   "metadata": {},
   "outputs": [],
   "source": [
    "#============================================================================ #\n",
    "# Read Depechemood\n",
    "#============================================================================ #\n",
    "\n",
    "def read_depechemood():\n",
    "    '''\n",
    "    Reads depechemood lexicon that has scores for 8 ranges of mood for 37 terms\n",
    "\n",
    "    Returns\n",
    "    -------\n",
    "    A panda dataframe with terms as index, emotion categories as columns, scores as rows\n",
    "    '''\n",
    "    dm_url = \"https://raw.githubusercontent.com/marcoguerini/DepecheMood/master/DepecheMood%2B%2B/DepecheMood_english_token_full.tsv\"\n",
    "    depechemood = pd.read_csv(dm_url, sep='\\t', index_col=0)\n",
    "    depechemood = depechemood[depechemood['freq']> 10]\n",
    "    depechemood.drop('freq', inplace=True, axis=1)\n",
    "    return depechemood\n",
    "\n",
    "def extract_emofeats(lex, lex_vocab, tokenized):\n",
    "    '''\n",
    "    Finds words in the text that matches with the lexicon\n",
    "    Extracts emotion scores\n",
    "\n",
    "    Returns\n",
    "    -------\n",
    "\n",
    "    A word-emotion matrix for a given text\n",
    "\n",
    "    '''\n",
    "    # return emotion word matrix\n",
    "    lex_dict = lex.to_dict('split')\n",
    "    lex_d = {word: lex_dict['data'][i] for i, word in enumerate(lex_dict['index'])}\n",
    "    assert len(lex_d.keys()) == len(lex_vocab)\n",
    "    Ss = np.zeros((len(tokenized), lex.shape[1]))\n",
    "    for i, doc in enumerate(tokenized):\n",
    "        intersection = set(lex_vocab) & set([doc])\n",
    "        s = []\n",
    "        for inter in intersection:\n",
    "            s.append(lex_d[inter])\n",
    "        s = np.array(s)\n",
    "        divisor = len(s) if len(s) > 0 else 1\n",
    "        Ss[i, :] = np.sum(s, axis=0) / divisor\n",
    "    return Ss\n",
    "\n",
    "dm = read_depechemood()\n",
    "\n",
    "def mood_metric_scores(tokenized):\n",
    "    '''\n",
    "    Obtains the emotion class based on the maximum score obtained from emofeats\n",
    "\n",
    "    Returns\n",
    "    -------\n",
    "    Emotion class and the emotion score vector\n",
    "    '''\n",
    "    Ss = extract_emofeats(dm, set(dm.index.values), tokenized)\n",
    "    # average the emoscore for each emotion category\n",
    "    k = np.array([sum(Ss[:,i]) for i in range(Ss.shape[1])])/Ss.shape[1]\n",
    "    # normalize the row vector\n",
    "    # this is the score range\n",
    "    if k.sum(axis=0,keepdims=1) == 0:\n",
    "        n = len(k)\n",
    "        q = [0] * n\n",
    "    else:\n",
    "        q = k/k.sum(axis=0,keepdims=1) # message-level emo-score;\n",
    "    # get the classified emotion\n",
    "    p = list(q)\n",
    "    emo_name = []\n",
    "    for col in dm.columns:\n",
    "        emo_name.append(col)\n",
    "    # get the class\n",
    "    # if the sum of the list is 0 meaning there are no matched -- label 'unclassified'\n",
    "    if sum(p) == 0:\n",
    "        emo_class = 'unclassified'\n",
    "    else:\n",
    "        m = max(p)\n",
    "        pos = p.index(m)\n",
    "        emo_class = emo_name[pos].lower()\n",
    "    return emo_class"
   ]
  },
  {
   "cell_type": "markdown",
   "metadata": {},
   "source": [
    "### Test on a Sample, 100 Messages"
   ]
  },
  {
   "cell_type": "code",
   "execution_count": 10,
   "metadata": {},
   "outputs": [],
   "source": [
    "# test on some of the messages\n",
    "sample = total_2018_q1[900:910]"
   ]
  },
  {
   "cell_type": "code",
   "execution_count": 11,
   "metadata": {},
   "outputs": [
    {
     "name": "stderr",
     "output_type": "stream",
     "text": [
      "/Users/esthersong/opt/anaconda3/lib/python3.7/site-packages/tqdm/std.py:658: FutureWarning: The Panel class is removed from pandas. Accessing it from the top-level namespace will also be removed in the next version\n",
      "  from pandas import Panel\n"
     ]
    }
   ],
   "source": [
    "# progress_map\n",
    "from tqdm import tqdm\n",
    "tqdm.pandas() "
   ]
  },
  {
   "cell_type": "code",
   "execution_count": 12,
   "metadata": {},
   "outputs": [
    {
     "name": "stderr",
     "output_type": "stream",
     "text": [
      "100%|██████████| 10/10 [00:03<00:00,  3.05it/s]"
     ]
    },
    {
     "name": "stdout",
     "output_type": "stream",
     "text": [
      "Total time took to label 100 messages is 3.286406993865967 seconds\n"
     ]
    },
    {
     "name": "stderr",
     "output_type": "stream",
     "text": [
      "\n",
      "/Users/esthersong/opt/anaconda3/lib/python3.7/site-packages/ipykernel_launcher.py:4: SettingWithCopyWarning: \n",
      "A value is trying to be set on a copy of a slice from a DataFrame.\n",
      "Try using .loc[row_indexer,col_indexer] = value instead\n",
      "\n",
      "See the caveats in the documentation: http://pandas.pydata.org/pandas-docs/stable/user_guide/indexing.html#returning-a-view-versus-a-copy\n",
      "  after removing the cwd from sys.path.\n"
     ]
    }
   ],
   "source": [
    "# time how long it takes to label 5K messages\n",
    "import time\n",
    "t0 = time.time()\n",
    "sample['dm_label'] = sample['tokens'].progress_map(mood_metric_scores)\n",
    "# sample['dm_label'] = sample['tokens'].apply(mood_metric_scores)\n",
    "t1 = time.time()\n",
    "\n",
    "# time took\n",
    "total = t1-t0\n",
    "print('Total time took to label 100 messages is '+str(total)+' seconds')"
   ]
  },
  {
   "cell_type": "code",
   "execution_count": 13,
   "metadata": {},
   "outputs": [
    {
     "data": {
      "text/plain": [
       "(0, 22)"
      ]
     },
     "execution_count": 13,
     "metadata": {},
     "output_type": "execute_result"
    }
   ],
   "source": [
    "sample[sample['dm_label'] == 'unclassified'].shape\n",
    "# 0 messages "
   ]
  },
  {
   "cell_type": "code",
   "execution_count": 14,
   "metadata": {},
   "outputs": [
    {
     "data": {
      "text/plain": [
       "900                   so it's easy to \"get started fast\"\n",
       "906        and i think it does a pretty good job of that\n",
       "907    at the same time, the diea is to keep it as si...\n",
       "909                           that's the point, actually\n",
       "Name: text, dtype: object"
      ]
     },
     "execution_count": 14,
     "metadata": {},
     "output_type": "execute_result"
    }
   ],
   "source": [
    "# see the emo_feats\n",
    "sample['text'][sample['dm_label'] == 'inspired']"
   ]
  },
  {
   "cell_type": "markdown",
   "metadata": {},
   "source": [
    "### Total 4856 Messages"
   ]
  },
  {
   "cell_type": "code",
   "execution_count": 15,
   "metadata": {},
   "outputs": [
    {
     "name": "stderr",
     "output_type": "stream",
     "text": [
      "100%|██████████| 4856/4856 [28:10<00:00,  2.87it/s]"
     ]
    },
    {
     "name": "stdout",
     "output_type": "stream",
     "text": [
      "Total time took to label 4856 messages is 1690.7349631786346 seconds\n"
     ]
    },
    {
     "name": "stderr",
     "output_type": "stream",
     "text": [
      "\n"
     ]
    }
   ],
   "source": [
    "t0 = time.time()\n",
    "total_2018_q1['dm_label'] = total_2018_q1['tokens'].progress_map(mood_metric_scores)\n",
    "# sample['dm_label'] = sample['tokens'].apply(mood_metric_scores)\n",
    "t1 = time.time()\n",
    "\n",
    "# time took\n",
    "total = t1-t0\n",
    "print('Total time took to label 4856 messages is '+str(total)+' seconds')"
   ]
  },
  {
   "cell_type": "code",
   "execution_count": 33,
   "metadata": {},
   "outputs": [
    {
     "data": {
      "text/plain": [
       "(164, 22)"
      ]
     },
     "execution_count": 33,
     "metadata": {},
     "output_type": "execute_result"
    }
   ],
   "source": [
    "total_2018_q1[total_2018_q1['dm_label'] == 'unclassified'].shape"
   ]
  },
  {
   "cell_type": "code",
   "execution_count": 81,
   "metadata": {},
   "outputs": [
    {
     "name": "stdout",
     "output_type": "stream",
     "text": [
      "{'inspired': 2418, 'amused': 1150, 'annoyed': 440, 'sad': 30, 'afraid': 138, 'angry': 302, 'happy': 57, 'dont_care': 157, 'unclassified': 164} dict_keys(['inspired', 'amused', 'annoyed', 'sad', 'afraid', 'angry', 'happy', 'dont_care', 'unclassified']) dict_values([2418, 1150, 440, 30, 138, 302, 57, 157, 164])\n"
     ]
    }
   ],
   "source": [
    "# use counter\n",
    "m = list(total_2018_q1['dm_label'])\n",
    "from collections import Counter\n",
    "m_dict = dict(Counter(m))\n",
    "print(m_dict,m_dict.keys(),m_dict.values()) # see if the order match"
   ]
  },
  {
   "cell_type": "code",
   "execution_count": 82,
   "metadata": {},
   "outputs": [
    {
     "data": {
      "text/html": [
       "<div>\n",
       "<style scoped>\n",
       "    .dataframe tbody tr th:only-of-type {\n",
       "        vertical-align: middle;\n",
       "    }\n",
       "\n",
       "    .dataframe tbody tr th {\n",
       "        vertical-align: top;\n",
       "    }\n",
       "\n",
       "    .dataframe thead th {\n",
       "        text-align: right;\n",
       "    }\n",
       "</style>\n",
       "<table border=\"1\" class=\"dataframe\">\n",
       "  <thead>\n",
       "    <tr style=\"text-align: right;\">\n",
       "      <th></th>\n",
       "      <th>0</th>\n",
       "    </tr>\n",
       "  </thead>\n",
       "  <tbody>\n",
       "    <tr>\n",
       "      <th>inspired</th>\n",
       "      <td>2418</td>\n",
       "    </tr>\n",
       "    <tr>\n",
       "      <th>amused</th>\n",
       "      <td>1150</td>\n",
       "    </tr>\n",
       "    <tr>\n",
       "      <th>annoyed</th>\n",
       "      <td>440</td>\n",
       "    </tr>\n",
       "    <tr>\n",
       "      <th>sad</th>\n",
       "      <td>30</td>\n",
       "    </tr>\n",
       "    <tr>\n",
       "      <th>afraid</th>\n",
       "      <td>138</td>\n",
       "    </tr>\n",
       "    <tr>\n",
       "      <th>angry</th>\n",
       "      <td>302</td>\n",
       "    </tr>\n",
       "    <tr>\n",
       "      <th>happy</th>\n",
       "      <td>57</td>\n",
       "    </tr>\n",
       "    <tr>\n",
       "      <th>dont_care</th>\n",
       "      <td>157</td>\n",
       "    </tr>\n",
       "    <tr>\n",
       "      <th>unclassified</th>\n",
       "      <td>164</td>\n",
       "    </tr>\n",
       "  </tbody>\n",
       "</table>\n",
       "</div>"
      ],
      "text/plain": [
       "                 0\n",
       "inspired      2418\n",
       "amused        1150\n",
       "annoyed        440\n",
       "sad             30\n",
       "afraid         138\n",
       "angry          302\n",
       "happy           57\n",
       "dont_care      157\n",
       "unclassified   164"
      ]
     },
     "execution_count": 82,
     "metadata": {},
     "output_type": "execute_result"
    }
   ],
   "source": [
    "df = pd.DataFrame.from_dict(m_dict,orient='index')\n",
    "df"
   ]
  },
  {
   "cell_type": "code",
   "execution_count": 83,
   "metadata": {},
   "outputs": [
    {
     "data": {
      "text/html": [
       "<div>\n",
       "<style scoped>\n",
       "    .dataframe tbody tr th:only-of-type {\n",
       "        vertical-align: middle;\n",
       "    }\n",
       "\n",
       "    .dataframe tbody tr th {\n",
       "        vertical-align: top;\n",
       "    }\n",
       "\n",
       "    .dataframe thead th {\n",
       "        text-align: right;\n",
       "    }\n",
       "</style>\n",
       "<table border=\"1\" class=\"dataframe\">\n",
       "  <thead>\n",
       "    <tr style=\"text-align: right;\">\n",
       "      <th></th>\n",
       "      <th>message_counts</th>\n",
       "      <th>emotion</th>\n",
       "      <th>per</th>\n",
       "    </tr>\n",
       "  </thead>\n",
       "  <tbody>\n",
       "    <tr>\n",
       "      <th>inspired</th>\n",
       "      <td>2418</td>\n",
       "      <td>inspired</td>\n",
       "      <td>50.0</td>\n",
       "    </tr>\n",
       "    <tr>\n",
       "      <th>amused</th>\n",
       "      <td>1150</td>\n",
       "      <td>amused</td>\n",
       "      <td>24.0</td>\n",
       "    </tr>\n",
       "    <tr>\n",
       "      <th>annoyed</th>\n",
       "      <td>440</td>\n",
       "      <td>annoyed</td>\n",
       "      <td>9.0</td>\n",
       "    </tr>\n",
       "    <tr>\n",
       "      <th>sad</th>\n",
       "      <td>30</td>\n",
       "      <td>sad</td>\n",
       "      <td>1.0</td>\n",
       "    </tr>\n",
       "    <tr>\n",
       "      <th>afraid</th>\n",
       "      <td>138</td>\n",
       "      <td>afraid</td>\n",
       "      <td>3.0</td>\n",
       "    </tr>\n",
       "    <tr>\n",
       "      <th>angry</th>\n",
       "      <td>302</td>\n",
       "      <td>angry</td>\n",
       "      <td>6.0</td>\n",
       "    </tr>\n",
       "    <tr>\n",
       "      <th>happy</th>\n",
       "      <td>57</td>\n",
       "      <td>happy</td>\n",
       "      <td>1.0</td>\n",
       "    </tr>\n",
       "    <tr>\n",
       "      <th>dont_care</th>\n",
       "      <td>157</td>\n",
       "      <td>dont_care</td>\n",
       "      <td>3.0</td>\n",
       "    </tr>\n",
       "    <tr>\n",
       "      <th>unclassified</th>\n",
       "      <td>164</td>\n",
       "      <td>unclassified</td>\n",
       "      <td>3.0</td>\n",
       "    </tr>\n",
       "  </tbody>\n",
       "</table>\n",
       "</div>"
      ],
      "text/plain": [
       "              message_counts       emotion   per\n",
       "inspired                2418      inspired  50.0\n",
       "amused                  1150        amused  24.0\n",
       "annoyed                  440       annoyed   9.0\n",
       "sad                       30           sad   1.0\n",
       "afraid                   138        afraid   3.0\n",
       "angry                    302         angry   6.0\n",
       "happy                     57         happy   1.0\n",
       "dont_care                157     dont_care   3.0\n",
       "unclassified             164  unclassified   3.0"
      ]
     },
     "execution_count": 83,
     "metadata": {},
     "output_type": "execute_result"
    }
   ],
   "source": [
    "# rename columns\n",
    "df.rename(columns = {0:'message_counts'}, inplace = True) \n",
    "df['emotion'] = df.index.to_series()\n",
    "df['per'] = round(df['message_counts']/(df['message_counts'].sum()),2) * 100\n",
    "df"
   ]
  },
  {
   "cell_type": "code",
   "execution_count": 84,
   "metadata": {},
   "outputs": [
    {
     "data": {
      "image/png": "[encoded data removed]",
      "text/plain": [
       "<Figure size 720x504 with 1 Axes>"
      ]
     },
     "metadata": {
      "needs_background": "light"
     },
     "output_type": "display_data"
    }
   ],
   "source": [
    "# plot proportion\n",
    "import pandas as pd\n",
    "import seaborn as sns\n",
    "import matplotlib.pyplot as plt\n",
    "\n",
    "# plot the scores\n",
    "plt.figure(figsize=(10,7))\n",
    "ax = sns.barplot(x='emotion', y='per', data=df, palette=\"hls\")\n",
    "ax.set_xlabel('mood', fontsize = 25)\n",
    "ax.set_ylabel('percentage', fontsize = 25)\n",
    "ax.tick_params(axis=\"x\", labelsize=15, labelrotation=45)\n",
    "ax.tick_params(axis=\"y\", labelsize=15, labelrotation=45)\n",
    "plt.show()"
   ]
  },
  {
   "cell_type": "code",
   "execution_count": 89,
   "metadata": {},
   "outputs": [
    {
     "data": {
      "text/plain": [
       "4692"
      ]
     },
     "execution_count": 89,
     "metadata": {},
     "output_type": "execute_result"
    }
   ],
   "source": [
    "# removing unclassified\n",
    "4856 - 164"
   ]
  },
  {
   "cell_type": "markdown",
   "metadata": {},
   "source": [
    "## Different Threshold -- If Max Emotion Score is Less than 0.2, Label it Unclassified"
   ]
  },
  {
   "cell_type": "markdown",
   "metadata": {},
   "source": [
    "Taking into account some of the comments I received during the demo, I revised the metric so that it only label the  message when the score is larger than 0.2. I chose 0.2 because the example words the authors show in the paper that maps onto the emotion category had scores above 0.2. For example, the word 'funny' had a score above 0.29; word 'kill' had scores 0.23 and 0.21 respectively, for categories afraid and anger. Given these examples, I lable messages with the maximum score below 0.2 as 'unclassified'."
   ]
  },
  {
   "cell_type": "code",
   "execution_count": 26,
   "metadata": {},
   "outputs": [],
   "source": [
    "# try with sample\n",
    "# redefine mood_metric_score function:\n",
    "\n",
    "\n",
    "def mood_metric_scores2(tokenized):\n",
    "    '''\n",
    "    Obtains the emotion class based on the maximum score obtained from emofeats\n",
    "\n",
    "    Returns\n",
    "    -------\n",
    "    Emotion class and the emotion score vector\n",
    "    '''\n",
    "    Ss = extract_emofeats(dm, set(dm.index.values), tokenized)\n",
    "    # average the emoscore for each emotion category\n",
    "    k = np.array([sum(Ss[:,i]) for i in range(Ss.shape[1])])/Ss.shape[1]\n",
    "    # normalize the row vector\n",
    "    # this is the score range\n",
    "    if k.sum(axis=0,keepdims=1) == 0:\n",
    "        n = len(k)\n",
    "        q = [0] * n\n",
    "    else:\n",
    "        q = k/k.sum(axis=0,keepdims=1) # message-level emo-score;\n",
    "    # get the classified emotion\n",
    "    p = list(q)\n",
    "    emo_name = []\n",
    "    for col in dm.columns:\n",
    "        emo_name.append(col)\n",
    "    # get the class\n",
    "    # if the sum of the list is 0 meaning there are no matched -- label 'unclassified'\n",
    "    if sum(p) == 0:\n",
    "        emo_class = 'unclassified'\n",
    "    else:\n",
    "        pass\n",
    "    # threshold -- 0.2\n",
    "    m = max(p)\n",
    "    if m < 0.2:\n",
    "        emo_class = 'unclassified'\n",
    "    else:\n",
    "        pos = p.index(m)\n",
    "        emo_class = emo_name[pos].lower()\n",
    "    return emo_class"
   ]
  },
  {
   "cell_type": "code",
   "execution_count": 27,
   "metadata": {},
   "outputs": [
    {
     "name": "stderr",
     "output_type": "stream",
     "text": [
      "100%|██████████| 10/10 [00:03<00:00,  2.98it/s]"
     ]
    },
    {
     "name": "stdout",
     "output_type": "stream",
     "text": [
      "Total time took to label 100 messages is 3.3633389472961426 seconds\n"
     ]
    },
    {
     "name": "stderr",
     "output_type": "stream",
     "text": [
      "\n",
      "/Users/esthersong/opt/anaconda3/lib/python3.7/site-packages/ipykernel_launcher.py:3: SettingWithCopyWarning: \n",
      "A value is trying to be set on a copy of a slice from a DataFrame.\n",
      "Try using .loc[row_indexer,col_indexer] = value instead\n",
      "\n",
      "See the caveats in the documentation: http://pandas.pydata.org/pandas-docs/stable/user_guide/indexing.html#returning-a-view-versus-a-copy\n",
      "  This is separate from the ipykernel package so we can avoid doing imports until\n"
     ]
    }
   ],
   "source": [
    "import time\n",
    "t0 = time.time()\n",
    "sample['dm_label'] = sample['tokens'].progress_map(mood_metric_scores2)\n",
    "# sample['dm_label'] = sample['tokens'].apply(mood_metric_scores)\n",
    "t1 = time.time()\n",
    "\n",
    "# time took\n",
    "total = t1-t0\n",
    "print('Total time took to label 100 messages is '+str(total)+' seconds')"
   ]
  },
  {
   "cell_type": "code",
   "execution_count": 28,
   "metadata": {},
   "outputs": [
    {
     "data": {
      "text/plain": [
       "(1, 22)"
      ]
     },
     "execution_count": 28,
     "metadata": {},
     "output_type": "execute_result"
    }
   ],
   "source": [
    "sample[sample['dm_label'] == 'unclassified'].shape\n",
    "# 0 messages "
   ]
  },
  {
   "cell_type": "code",
   "execution_count": 29,
   "metadata": {},
   "outputs": [
    {
     "data": {
      "text/plain": [
       "905    devops is just a very large domain\n",
       "Name: text, dtype: object"
      ]
     },
     "execution_count": 29,
     "metadata": {},
     "output_type": "execute_result"
    }
   ],
   "source": [
    "sample['text'][sample['dm_label'] == 'unclassified']"
   ]
  },
  {
   "cell_type": "markdown",
   "metadata": {},
   "source": [
    "## Re-Run on 5K Message and See Difference"
   ]
  },
  {
   "cell_type": "code",
   "execution_count": 39,
   "metadata": {},
   "outputs": [],
   "source": [
    "total_2018_q1_v3 = total_2018_q1.copy()"
   ]
  },
  {
   "cell_type": "code",
   "execution_count": 40,
   "metadata": {},
   "outputs": [
    {
     "data": {
      "text/plain": [
       "uniqueMessageChannelId            object\n",
       "companyId                         object\n",
       "teamId                            object\n",
       "userId                            object\n",
       "text                              object\n",
       "userChannelId                     object\n",
       "channelId                         object\n",
       "channelTs                         object\n",
       "timestamp                         object\n",
       "userTimestamp             datetime64[ns]\n",
       "rawScore                          object\n",
       "rawMagnitudeScore                 object\n",
       "isWeekend                         object\n",
       "isOutOfWorkingHours               object\n",
       "numPositiveEmojis                 object\n",
       "numNegativeEmojis                 object\n",
       "hasQuestionMark                   object\n",
       "channelThreadTs                   object\n",
       "numSharedFiles                    object\n",
       "cleanText                         object\n",
       "tokens                            object\n",
       "dm_label                          object\n",
       "dtype: object"
      ]
     },
     "execution_count": 40,
     "metadata": {},
     "output_type": "execute_result"
    }
   ],
   "source": [
    "total_2018_q1_v3.dtypes"
   ]
  },
  {
   "cell_type": "code",
   "execution_count": 42,
   "metadata": {},
   "outputs": [
    {
     "name": "stderr",
     "output_type": "stream",
     "text": [
      "/Users/esthersong/opt/anaconda3/lib/python3.7/site-packages/tqdm/std.py:658: FutureWarning: The Panel class is removed from pandas. Accessing it from the top-level namespace will also be removed in the next version\n",
      "  from pandas import Panel\n"
     ]
    },
    {
     "data": {
      "application/vnd.jupyter.widget-view+json": {
       "model_id": "c7d9c6f8b5a34cb3b33818a0620173e3",
       "version_major": 2,
       "version_minor": 0
      },
      "text/plain": [
       "HBox(children=(FloatProgress(value=0.0, max=4856.0), HTML(value='')))"
      ]
     },
     "metadata": {},
     "output_type": "display_data"
    },
    {
     "name": "stdout",
     "output_type": "stream",
     "text": [
      "\n",
      "Total time took to label 4856 messages is 1802.0994110107422 seconds\n"
     ]
    }
   ],
   "source": [
    "from tqdm.auto import tqdm\n",
    "tqdm.pandas()\n",
    "\n",
    "\n",
    "import time\n",
    "t0 = time.time()\n",
    "total_2018_q1_v3['dm_label2'] = total_2018_q1_v3['tokens'].progress_map(mood_metric_scores2)\n",
    "t1 = time.time()\n",
    "\n",
    "# time took\n",
    "total = t1-t0\n",
    "print('Total time took to label 4856 messages is '+str(total)+' seconds')"
   ]
  },
  {
   "cell_type": "code",
   "execution_count": 79,
   "metadata": {},
   "outputs": [
    {
     "name": "stdout",
     "output_type": "stream",
     "text": [
      "The proportion of unclassified messages out of total without threshold is 3.0%\n",
      "The proportion of unclassified messages out of total with threshold < 0.2 is 68.0%\n"
     ]
    }
   ],
   "source": [
    "a = total_2018_q1_v3[total_2018_q1_v3['dm_label'] == 'unclassified'].shape[0]\n",
    "b = total_2018_q1_v3[total_2018_q1_v3['dm_label2'] == 'unclassified'].shape[0]\n",
    "\n",
    "\n",
    "n = total_2018_q1_v3.shape[0]\n",
    "\n",
    "\n",
    "round((a/n),2)*100\n",
    "print('The proportion of unclassified messages out of total without threshold is '+ str(round((a/n),2)*100) +'%')\n",
    "print('The proportion of unclassified messages out of total with threshold < 0.2 is '+str(round((b/n),2)*100) +'%')"
   ]
  },
  {
   "cell_type": "code",
   "execution_count": 85,
   "metadata": {},
   "outputs": [],
   "source": [
    "# create df of labels and proportions\n",
    "\n",
    "# use counter\n",
    "m = list(total_2018_q1_v3['dm_label2'])\n",
    "from collections import Counter\n",
    "m_dict = dict(Counter(m))\n",
    "# print(m_dict,m_dict.keys(),m_dict.values()) # see if the order match\n",
    "\n",
    "df = pd.DataFrame.from_dict(m_dict,orient='index')\n",
    "\n",
    "# rename columns\n",
    "df.rename(columns = {0:'message_counts'}, inplace = True) \n",
    "df['emotion'] = df.index.to_series()\n",
    "df['per'] = round(df['message_counts']/(df['message_counts'].sum()),2) * 100"
   ]
  },
  {
   "cell_type": "code",
   "execution_count": 86,
   "metadata": {},
   "outputs": [
    {
     "data": {
      "image/png": "[encoded data removed]",
      "text/plain": [
       "<Figure size 720x504 with 1 Axes>"
      ]
     },
     "metadata": {
      "needs_background": "light"
     },
     "output_type": "display_data"
    }
   ],
   "source": [
    "# plot proportion\n",
    "import pandas as pd\n",
    "import seaborn as sns\n",
    "import matplotlib.pyplot as plt\n",
    "\n",
    "# plot the scores\n",
    "plt.figure(figsize=(10,7))\n",
    "ax = sns.barplot(x='emotion', y='per', data=df, palette=\"hls\")\n",
    "ax.set_xlabel('mood', fontsize = 25)\n",
    "ax.set_ylabel('percentage', fontsize = 25)\n",
    "ax.tick_params(axis=\"x\", labelsize=15, labelrotation=45)\n",
    "ax.tick_params(axis=\"y\", labelsize=15, labelrotation=45)\n",
    "plt.show()"
   ]
  },
  {
   "cell_type": "markdown",
   "metadata": {},
   "source": [
    "## Threshold 0.2 throws out too many messages -- change threshold to <0.15"
   ]
  },
  {
   "cell_type": "code",
   "execution_count": 63,
   "metadata": {},
   "outputs": [],
   "source": [
    "# try with sample\n",
    "# redefine mood_metric_score function:\n",
    "\n",
    "\n",
    "def mood_metric_scores3(tokenized):\n",
    "    '''\n",
    "    Obtains the emotion class based on the maximum score obtained from emofeats\n",
    "\n",
    "    Returns\n",
    "    -------\n",
    "    Emotion class and the emotion score vector\n",
    "    '''\n",
    "    Ss = extract_emofeats(dm, set(dm.index.values), tokenized)\n",
    "    # average the emoscore for each emotion category\n",
    "    k = np.array([sum(Ss[:,i]) for i in range(Ss.shape[1])])/Ss.shape[1]\n",
    "    # normalize the row vector\n",
    "    # this is the score range\n",
    "    if k.sum(axis=0,keepdims=1) == 0:\n",
    "        n = len(k)\n",
    "        q = [0] * n\n",
    "    else:\n",
    "        q = k/k.sum(axis=0,keepdims=1) # message-level emo-score;\n",
    "    # get the classified emotion\n",
    "    p = list(q)\n",
    "    emo_name = []\n",
    "    for col in dm.columns:\n",
    "        emo_name.append(col)\n",
    "    # get the class\n",
    "    # if the sum of the list is 0 meaning there are no matched -- label 'unclassified'\n",
    "    if sum(p) == 0:\n",
    "        emo_class = 'unclassified'\n",
    "    else:\n",
    "        pass\n",
    "    # threshold -- 0.15\n",
    "    m = max(p)\n",
    "    if m < 0.15:\n",
    "        emo_class = 'unclassified'\n",
    "    else:\n",
    "        pos = p.index(m)\n",
    "        emo_class = emo_name[pos].lower()\n",
    "    return emo_class"
   ]
  },
  {
   "cell_type": "code",
   "execution_count": 64,
   "metadata": {},
   "outputs": [
    {
     "data": {
      "application/vnd.jupyter.widget-view+json": {
       "model_id": "19271965e823440f86da5adb85557221",
       "version_major": 2,
       "version_minor": 0
      },
      "text/plain": [
       "HBox(children=(FloatProgress(value=0.0, max=4856.0), HTML(value='')))"
      ]
     },
     "metadata": {},
     "output_type": "display_data"
    },
    {
     "name": "stdout",
     "output_type": "stream",
     "text": [
      "\n",
      "Total time took to label 4856 messages is 1694.8740808963776 seconds\n"
     ]
    }
   ],
   "source": [
    "import time\n",
    "t0 = time.time()\n",
    "total_2018_q1_v3['dm_label3'] = total_2018_q1_v3['tokens'].progress_map(mood_metric_scores3)\n",
    "t1 = time.time()\n",
    "\n",
    "# time took\n",
    "total = t1-t0\n",
    "print('Total time took to label 4856 messages is '+str(total)+' seconds')"
   ]
  },
  {
   "cell_type": "code",
   "execution_count": 80,
   "metadata": {},
   "outputs": [
    {
     "name": "stdout",
     "output_type": "stream",
     "text": [
      "The proportion of unclassified messages out of total without threshold is 3.0%\n",
      "The proportion of unclassified messages out of total with threshold < 0.2 is 68.0%\n",
      "The proportion of unclassified messages out of total with threshold < 0.1 is 6.0%\n"
     ]
    }
   ],
   "source": [
    "a = total_2018_q1_v3[total_2018_q1_v3['dm_label'] == 'unclassified'].shape[0]\n",
    "b = total_2018_q1_v3[total_2018_q1_v3['dm_label2'] == 'unclassified'].shape[0]\n",
    "c = total_2018_q1_v3[total_2018_q1_v3['dm_label3'] == 'unclassified'].shape[0]\n",
    "\n",
    "\n",
    "\n",
    "n = total_2018_q1_v3.shape[0]\n",
    "\n",
    "\n",
    "print('The proportion of unclassified messages out of total without threshold is '+str(round((a/n),2)*100) +'%')\n",
    "print('The proportion of unclassified messages out of total with threshold < 0.2 is '+str(round((b/n),2)*100) +'%')\n",
    "print('The proportion of unclassified messages out of total with threshold < 0.1 is '+str(round((c/n),2)*100) +'%')"
   ]
  },
  {
   "cell_type": "code",
   "execution_count": 87,
   "metadata": {},
   "outputs": [
    {
     "data": {
      "text/html": [
       "<div>\n",
       "<style scoped>\n",
       "    .dataframe tbody tr th:only-of-type {\n",
       "        vertical-align: middle;\n",
       "    }\n",
       "\n",
       "    .dataframe tbody tr th {\n",
       "        vertical-align: top;\n",
       "    }\n",
       "\n",
       "    .dataframe thead th {\n",
       "        text-align: right;\n",
       "    }\n",
       "</style>\n",
       "<table border=\"1\" class=\"dataframe\">\n",
       "  <thead>\n",
       "    <tr style=\"text-align: right;\">\n",
       "      <th></th>\n",
       "      <th>message_counts</th>\n",
       "      <th>emotion</th>\n",
       "      <th>per</th>\n",
       "    </tr>\n",
       "  </thead>\n",
       "  <tbody>\n",
       "    <tr>\n",
       "      <th>inspired</th>\n",
       "      <td>2371</td>\n",
       "      <td>inspired</td>\n",
       "      <td>49.0</td>\n",
       "    </tr>\n",
       "    <tr>\n",
       "      <th>amused</th>\n",
       "      <td>1130</td>\n",
       "      <td>amused</td>\n",
       "      <td>23.0</td>\n",
       "    </tr>\n",
       "    <tr>\n",
       "      <th>annoyed</th>\n",
       "      <td>404</td>\n",
       "      <td>annoyed</td>\n",
       "      <td>8.0</td>\n",
       "    </tr>\n",
       "    <tr>\n",
       "      <th>unclassified</th>\n",
       "      <td>315</td>\n",
       "      <td>unclassified</td>\n",
       "      <td>6.0</td>\n",
       "    </tr>\n",
       "    <tr>\n",
       "      <th>afraid</th>\n",
       "      <td>124</td>\n",
       "      <td>afraid</td>\n",
       "      <td>3.0</td>\n",
       "    </tr>\n",
       "    <tr>\n",
       "      <th>angry</th>\n",
       "      <td>287</td>\n",
       "      <td>angry</td>\n",
       "      <td>6.0</td>\n",
       "    </tr>\n",
       "    <tr>\n",
       "      <th>happy</th>\n",
       "      <td>54</td>\n",
       "      <td>happy</td>\n",
       "      <td>1.0</td>\n",
       "    </tr>\n",
       "    <tr>\n",
       "      <th>dont_care</th>\n",
       "      <td>146</td>\n",
       "      <td>dont_care</td>\n",
       "      <td>3.0</td>\n",
       "    </tr>\n",
       "    <tr>\n",
       "      <th>sad</th>\n",
       "      <td>25</td>\n",
       "      <td>sad</td>\n",
       "      <td>1.0</td>\n",
       "    </tr>\n",
       "  </tbody>\n",
       "</table>\n",
       "</div>"
      ],
      "text/plain": [
       "              message_counts       emotion   per\n",
       "inspired                2371      inspired  49.0\n",
       "amused                  1130        amused  23.0\n",
       "annoyed                  404       annoyed   8.0\n",
       "unclassified             315  unclassified   6.0\n",
       "afraid                   124        afraid   3.0\n",
       "angry                    287         angry   6.0\n",
       "happy                     54         happy   1.0\n",
       "dont_care                146     dont_care   3.0\n",
       "sad                       25           sad   1.0"
      ]
     },
     "execution_count": 87,
     "metadata": {},
     "output_type": "execute_result"
    }
   ],
   "source": [
    "# create df of labels and proportions\n",
    "\n",
    "# use counter\n",
    "m = list(total_2018_q1_v3['dm_label3'])\n",
    "from collections import Counter\n",
    "m_dict = dict(Counter(m))\n",
    "# print(m_dict,m_dict.keys(),m_dict.values()) # see if the order match\n",
    "\n",
    "df = pd.DataFrame.from_dict(m_dict,orient='index')\n",
    "\n",
    "# rename columns\n",
    "df.rename(columns = {0:'message_counts'}, inplace = True) \n",
    "df['emotion'] = df.index.to_series()\n",
    "df['per'] = round(df['message_counts']/(df['message_counts'].sum()),2) * 100\n",
    "df"
   ]
  },
  {
   "cell_type": "code",
   "execution_count": 88,
   "metadata": {},
   "outputs": [
    {
     "data": {
      "image/png": "[encoded data removed]",
      "text/plain": [
       "<Figure size 720x504 with 1 Axes>"
      ]
     },
     "metadata": {
      "needs_background": "light"
     },
     "output_type": "display_data"
    }
   ],
   "source": [
    "# plot proportion\n",
    "import pandas as pd\n",
    "import seaborn as sns\n",
    "import matplotlib.pyplot as plt\n",
    "\n",
    "# plot the scores\n",
    "plt.figure(figsize=(10,7))\n",
    "ax = sns.barplot(x='emotion', y='per', data=df, palette=\"hls\")\n",
    "ax.set_xlabel('mood', fontsize = 25)\n",
    "ax.set_ylabel('percentage', fontsize = 25)\n",
    "ax.tick_params(axis=\"x\", labelsize=15, labelrotation=45)\n",
    "ax.tick_params(axis=\"y\", labelsize=15, labelrotation=45)\n",
    "plt.show()"
   ]
  }
 ],
 "metadata": {
  "kernelspec": {
   "display_name": "Python 3",
   "language": "python",
   "name": "python3"
  },
  "language_info": {
   "codemirror_mode": {
    "name": "ipython",
    "version": 3
   },
   "file_extension": ".py",
   "mimetype": "text/x-python",
   "name": "python",
   "nbconvert_exporter": "python",
   "pygments_lexer": "ipython3",
   "version": "3.7.4"
  }
 },
 "nbformat": 4,
 "nbformat_minor": 2
}
